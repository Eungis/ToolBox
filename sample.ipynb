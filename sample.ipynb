{
 "cells": [
  {
   "attachments": {},
   "cell_type": "markdown",
   "metadata": {},
   "source": [
    "# Text Summarization"
   ]
  },
  {
   "cell_type": "code",
   "execution_count": 1,
   "metadata": {},
   "outputs": [],
   "source": [
    "import os\n",
    "import pandas as pd\n",
    "import numpy as np\n",
    "import warnings\n",
    "\n",
    "from tqdm import tqdm\n",
    "from nltk import sent_tokenize\n",
    "from itertools import groupby\n",
    "from operator import itemgetter\n",
    "warnings.filterwarnings(\"ignore\")\n",
    "\n",
    "from src.summarizers.textrank import KeySentenceExtractor\n",
    "from src.summarizers.bartplm import BartSummarizer"
   ]
  },
  {
   "cell_type": "code",
   "execution_count": 5,
   "metadata": {},
   "outputs": [],
   "source": [
    "def combine_summaries(ext_itos, abt_itos):\n",
    "    \"\"\"\n",
    "    Args:\n",
    "        ext_itos (dict): extracted summaries with format \"index_to_sentence\"\n",
    "        abt_itos (dict): abstracted summaries with format \"index_to_sentence\"\n",
    "    Func:\n",
    "        Before combining two summaries, exclude the sentences in extracted sentences which are:\n",
    "        1) length of words in a sentence less than 5\n",
    "        2) incomplete quoted sentences\n",
    "        3) duplicated sentences compared with abstracted summaries\n",
    "\n",
    "        Before combining two summaries, if the sentences are not consecutive in order,\n",
    "        add \"...\" between the sentences\n",
    "    \"\"\"\n",
    "\n",
    "    _ext_itos = {}\n",
    "    for idx, sent in ext_itos.items():\n",
    "        if len(sent.split(\" \")) > 5:\n",
    "            if sent.find('\\\"') != -1:\n",
    "                if sent.count('\\\"') >= 2:\n",
    "                    continue\n",
    "            else:\n",
    "                _ext_itos[idx] = sent\n",
    "\n",
    "    for idx, sent in _ext_itos.items():\n",
    "        if abt_itos.get(idx) is None:\n",
    "            abt_itos[idx] = sent\n",
    "\n",
    "    summary = []\n",
    "    summary_itos = dict(sorted(abt_itos.items(), key=lambda x:x[0]))\n",
    "\n",
    "    indices = list(summary_itos.keys())\n",
    "    for k, g in groupby(enumerate(indices), lambda ix: ix[0] - ix[1]):\n",
    "        chunk = list(map(itemgetter(1), g))\n",
    "        chunk_sent = \" \".join([summary_itos.get(idx) for idx in chunk])\n",
    "        summary += [chunk_sent]\n",
    "\n",
    "    summary = \" ... \".join(summary)\n",
    "\n",
    "    return summary_itos, summary"
   ]
  },
  {
   "cell_type": "code",
   "execution_count": 6,
   "metadata": {},
   "outputs": [],
   "source": [
    "doc = '''São Paulo – \"The United Arab Emirates took in February for the first time the lead in poultry imports from Brazil, industry association ABPA reported.\" The Gulf country surpassed China, which had been the leading poultry buyer until then. The UAE acquired 42,800 tonnes in poultry, up 89.9% year on year. ``The UAE gained prominence in exports from Brazil in the last couple of months, which was crucial, along with the increase in sales to Mexico and the European Union,`` ABPA Markets director Luís Rua was quoted as saying in a statement regarding February exports. According to Rua, the level of purchases from these regions is expected to be maintained over the following months, particularly because Ukraine, which is a strong competitor for Brazil in poultry supply to destinations like the EU, Saudi Arabia and the Gulf states, is likely to export lesser volumes due to the war with Russia. Overall poultry exports from Brazil stepped up 7.4% in February to 348,800 tonnes, including raw and processed products. In revenue, exports grossed USD 663 million last month, up 27.1%. China, now the second largest importer of poultry from Brazil, brought in 42,300 tonnes last month, down 8.4% year on year. Third came South Africa at 30,700 tonnes. ABPA also highlighted sales to the Mexico, up 358% to 19,600 tonnes, and the EU at 16,500 tonnes, up 35.1%. In the first two months of the year, poultry exports reached 723,700 tonnes, up 13% year on year to 640,400 tonnes. Revenue was up 33.9% to USD 1.280 billion from USD 956.1 million one year ago. Translated by Guilherme Miranda'''"
   ]
  },
  {
   "cell_type": "code",
   "execution_count": 7,
   "metadata": {},
   "outputs": [
    {
     "data": {
      "application/vnd.jupyter.widget-view+json": {
       "model_id": "1f65a486862240d8a9b5685edd281381",
       "version_major": 2,
       "version_minor": 0
      },
      "text/plain": [
       "Downloading (…)neration_config.json:   0%|          | 0.00/363 [00:00<?, ?B/s]"
      ]
     },
     "metadata": {},
     "output_type": "display_data"
    },
    {
     "name": "stdout",
     "output_type": "stream",
     "text": [
      "\n",
      "|extractive_body|\n",
      "{0: 'São Paulo – \"The United Arab Emirates took in February for the first time the lead in poultry imports from Brazil, industry association ABPA reported.\"', 1: 'The Gulf country surpassed China, which had been the leading poultry buyer until then.'}\n",
      "\n",
      "|abstractive_body|\n",
      "{2: 'The UAE acquired 42,800 tonnes in poultry, up 89.9% year on year.', 7: 'China, now the second largest importer of poultry from Brazil, brought in 42,300 tonnes last month.', 5: 'Overall poultry exports from Brazil stepped up 7.4% in February to 348,800 tonnes.'}\n"
     ]
    }
   ],
   "source": [
    "textrank_summarizer = KeySentenceExtractor()\n",
    "bart_summarizer = BartSummarizer()\n",
    "\n",
    "# doc = data[data.language_id == \"en\"].sample(n=1).raw_body.iat[0]\n",
    "tok_doc = sent_tokenize(doc)\n",
    "\n",
    "ext_itos = textrank_summarizer.summarize(\n",
    "    doc=doc,\n",
    "    embedding = True,\n",
    "    directed = True,\n",
    "    min_sim = .2,\n",
    "    pos_emph = None,\n",
    "    emph_rate = None,\n",
    "    max_epoch = 100,\n",
    "    damping_factor = .85,\n",
    "    early_stop = True,\n",
    "    topk = 2\n",
    ")\n",
    "# |ext_itos| = {idx:sent, ...}\n",
    "\n",
    "abt_itos = bart_summarizer.summarize(\n",
    "    doc,\n",
    "    num_beams=2,\n",
    "    length_penalty=2.0,\n",
    "    no_repeat_ngram_size=4\n",
    ")\n",
    "# |abt_itos| = {idx:sent, ...}\n",
    "\n",
    "print(f'''\n",
    "|extractive_body|\n",
    "{ext_itos}''')\n",
    "\n",
    "print(f'''\n",
    "|abstractive_body|\n",
    "{abt_itos}''')"
   ]
  },
  {
   "cell_type": "code",
   "execution_count": 8,
   "metadata": {},
   "outputs": [
    {
     "name": "stdout",
     "output_type": "stream",
     "text": [
      "\n",
      "|body|\n",
      "São Paulo – \"The United Arab Emirates took in February for the first time the lead in poultry imports from Brazil, industry association ABPA reported.\" The Gulf country surpassed China, which had been the leading poultry buyer until then. The UAE acquired 42,800 tonnes in poultry, up 89.9% year on year. ``The UAE gained prominence in exports from Brazil in the last couple of months, which was crucial, along with the increase in sales to Mexico and the European Union,`` ABPA Markets director Luís Rua was quoted as saying in a statement regarding February exports. According to Rua, the level of purchases from these regions is expected to be maintained over the following months, particularly because Ukraine, which is a strong competitor for Brazil in poultry supply to destinations like the EU, Saudi Arabia and the Gulf states, is likely to export lesser volumes due to the war with Russia. Overall poultry exports from Brazil stepped up 7.4% in February to 348,800 tonnes, including raw and processed products. In revenue, exports grossed USD 663 million last month, up 27.1%. China, now the second largest importer of poultry from Brazil, brought in 42,300 tonnes last month, down 8.4% year on year. Third came South Africa at 30,700 tonnes. ABPA also highlighted sales to the Mexico, up 358% to 19,600 tonnes, and the EU at 16,500 tonnes, up 35.1%. In the first two months of the year, poultry exports reached 723,700 tonnes, up 13% year on year to 640,400 tonnes. Revenue was up 33.9% to USD 1.280 billion from USD 956.1 million one year ago. Translated by Guilherme Miranda\n",
      "\n",
      "|summary itos|\n",
      "{1: 'The Gulf country surpassed China, which had been the leading poultry buyer until then.', 2: 'The UAE acquired 42,800 tonnes in poultry, up 89.9% year on year.', 5: 'Overall poultry exports from Brazil stepped up 7.4% in February to 348,800 tonnes.', 7: 'China, now the second largest importer of poultry from Brazil, brought in 42,300 tonnes last month.'}\n",
      "\n",
      "|summary|\n",
      "The Gulf country surpassed China, which had been the leading poultry buyer until then. The UAE acquired 42,800 tonnes in poultry, up 89.9% year on year. ... Overall poultry exports from Brazil stepped up 7.4% in February to 348,800 tonnes. ... China, now the second largest importer of poultry from Brazil, brought in 42,300 tonnes last month.\n"
     ]
    }
   ],
   "source": [
    "summary_itos, summary = combine_summaries(ext_itos, abt_itos)\n",
    "print(f'''\n",
    "|body|\n",
    "{doc}\n",
    "\n",
    "|summary itos|\n",
    "{summary_itos}\n",
    "\n",
    "|summary|\n",
    "{summary}''')"
   ]
  },
  {
   "attachments": {},
   "cell_type": "markdown",
   "metadata": {},
   "source": [
    "# Language Identification"
   ]
  },
  {
   "cell_type": "code",
   "execution_count": 1,
   "metadata": {},
   "outputs": [
    {
     "name": "stdout",
     "output_type": "stream",
     "text": [
      "ko\n"
     ]
    },
    {
     "name": "stderr",
     "output_type": "stream",
     "text": [
      "Warning : `load_model` does not return WordVectorModel or SupervisedModel any more, but a `FastText` object which is very similar.\n"
     ]
    }
   ],
   "source": [
    "from src.preprocessors.lang_identifier import FasttextIdentifier\n",
    "\n",
    "fasttext = FasttextIdentifier()\n",
    "MAX_LENGTH = 128\n",
    "text = \"안녕하세요.\"\n",
    "lang = fasttext.predict_lang(text)[0][0].split(\"__label__\")[1]\n",
    "print(lang)"
   ]
  },
  {
   "attachments": {},
   "cell_type": "markdown",
   "metadata": {},
   "source": [
    "# Query Data"
   ]
  },
  {
   "cell_type": "code",
   "execution_count": null,
   "metadata": {},
   "outputs": [],
   "source": [
    "from src.loaders.loader import QueryLoader\n",
    "from src.loaders.engine import Engine, SnowflakeEngine\n",
    "\n",
    "fn = \"./data\" + \"/\" + \"item.tsv\"\n",
    "if os.path.exists(fn):\n",
    "    item_data = pd.read_csv(fn, sep=\"\\t\")\n",
    "else:\n",
    "    # get data from DB\n",
    "    SQL = QueryLoader().fetch[\"item\"]\n",
    "    engine = Engine(SQL)\n",
    "    engine.connect_database()\n",
    "    item_data = engine.fetch_data()\n",
    "\n",
    "    item_data.to_csv(fn, sep=\"\\t\", index=False)\n",
    "print(\"Number of items before processing: \", len(item_data.item_id.unique()))\n",
    "\n",
    "\n",
    "fn = \"./data\" + \"/\" + \"price_3y.tsv\"\n",
    "if os.path.exists(fn):\n",
    "    price_data = pd.read_csv(fn, sep=\"\\t\")\n",
    "else:\n",
    "    # get data from DB\n",
    "    SQL = QueryLoader().fetch[\"price_3y\"]\n",
    "    engine = Engine(SQL)\n",
    "    engine.connect_database()\n",
    "    price_data = engine.fetch_data()\n",
    "\n",
    "    price_data.to_csv(fn, sep=\"\\t\", index=False)\n",
    "print(\"Number of entries before processing: \", len(price_data.entry_id.unique()))"
   ]
  },
  {
   "cell_type": "code",
   "execution_count": 3,
   "metadata": {},
   "outputs": [],
   "source": []
  },
  {
   "cell_type": "code",
   "execution_count": null,
   "metadata": {},
   "outputs": [],
   "source": []
  }
 ],
 "metadata": {
  "kernelspec": {
   "display_name": "toolbox",
   "language": "python",
   "name": "python3"
  },
  "language_info": {
   "codemirror_mode": {
    "name": "ipython",
    "version": 3
   },
   "file_extension": ".py",
   "mimetype": "text/x-python",
   "name": "python",
   "nbconvert_exporter": "python",
   "pygments_lexer": "ipython3",
   "version": "3.10.9"
  },
  "orig_nbformat": 4,
  "vscode": {
   "interpreter": {
    "hash": "7ab0020e24c823ec4d20de1f4e0bb32615cd7feb92693a1565bffd07d57da851"
   }
  }
 },
 "nbformat": 4,
 "nbformat_minor": 2
}
