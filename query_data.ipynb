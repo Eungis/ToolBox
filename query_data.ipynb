{
 "cells": [
  {
   "cell_type": "code",
   "execution_count": 3,
   "metadata": {},
   "outputs": [],
   "source": [
    "import os\n",
    "import sys\n",
    "import pandas as pd\n",
    "import numpy as np\n",
    "import warnings\n",
    "\n",
    "from tqdm import tqdm\n",
    "from loaders.loader import QueryLoader\n",
    "from loaders.engine import Engine, SnowflakeEngine\n",
    "warnings.filterwarnings(\"ignore\")"
   ]
  },
  {
   "cell_type": "code",
   "execution_count": 4,
   "metadata": {},
   "outputs": [
    {
     "name": "stdout",
     "output_type": "stream",
     "text": [
      "Number of items before processing:  584013\n",
      "Number of entries before processing:  1499699\n"
     ]
    }
   ],
   "source": [
    "fn = \"./data\" + \"/\" + \"item.tsv\"\n",
    "if os.path.exists(fn):\n",
    "    item_data = pd.read_csv(fn, sep=\"\\t\")\n",
    "else:\n",
    "    # get data from DB\n",
    "    SQL = QueryLoader().fetch[\"item\"]\n",
    "    engine = Engine(SQL)\n",
    "    engine.connect_database()\n",
    "    item_data = engine.fetch_data()\n",
    "\n",
    "    item_data.to_csv(fn, sep=\"\\t\", index=False)\n",
    "print(\"Number of items before processing: \", len(item_data.item_id.unique()))\n",
    "\n",
    "\n",
    "fn = \"./data\" + \"/\" + \"price_3y.tsv\"\n",
    "if os.path.exists(fn):\n",
    "    price_data = pd.read_csv(fn, sep=\"\\t\")\n",
    "else:\n",
    "    # get data from DB\n",
    "    SQL = QueryLoader().fetch[\"price_3y\"]\n",
    "    engine = Engine(SQL)\n",
    "    engine.connect_database()\n",
    "    price_data = engine.fetch_data()\n",
    "\n",
    "    price_data.to_csv(fn, sep=\"\\t\", index=False)\n",
    "print(\"Number of entries before processing: \", len(price_data.entry_id.unique()))"
   ]
  },
  {
   "cell_type": "code",
   "execution_count": null,
   "metadata": {},
   "outputs": [],
   "source": []
  }
 ],
 "metadata": {
  "kernelspec": {
   "display_name": "toolbox",
   "language": "python",
   "name": "python3"
  },
  "language_info": {
   "codemirror_mode": {
    "name": "ipython",
    "version": 3
   },
   "file_extension": ".py",
   "mimetype": "text/x-python",
   "name": "python",
   "nbconvert_exporter": "python",
   "pygments_lexer": "ipython3",
   "version": "3.10.9"
  },
  "orig_nbformat": 4,
  "vscode": {
   "interpreter": {
    "hash": "b7fccf816a706d77a0cb99c3a3b40d9445154fff59ac81dd0c184172d50d286f"
   }
  }
 },
 "nbformat": 4,
 "nbformat_minor": 2
}
